{
 "cells": [
  {
   "cell_type": "code",
   "execution_count": 325,
   "metadata": {},
   "outputs": [
    {
     "data": {
      "text/plain": [
       "<matplotlib.legend.Legend at 0x121303aaf10>"
      ]
     },
     "execution_count": 325,
     "metadata": {},
     "output_type": "execute_result"
    },
    {
     "data": {
      "image/png": "[encoded data removed]",
      "text/plain": [
       "<Figure size 432x288 with 1 Axes>"
      ]
     },
     "metadata": {
      "needs_background": "light"
     },
     "output_type": "display_data"
    }
   ],
   "source": [
    "import numpy as np\n",
    "import pandas as pd\n",
    "from sklearn.datasets import load_iris\n",
    "from sklearn.model_selection import  train_test_split\n",
    "import matplotlib.pyplot as plt\n",
    "from cvxopt import matrix as cvxopt_matrix\n",
    "from cvxopt import solvers as cvxopt_solvers\n",
    "\n",
    "def create_data():\n",
    "    iris = load_iris()\n",
    "    df = pd.DataFrame(iris.data, columns=iris.feature_names)\n",
    "    df['label'] = iris.target\n",
    "    df.columns = [\n",
    "        'sepal length', 'sepal width', 'petal length', 'petal width', 'label'\n",
    "    ]\n",
    "    data = np.array(df.iloc[:100, [0, 1, -1]])\n",
    "    for i in range(len(data)):\n",
    "        if data[i, -1] == 0:\n",
    "            data[i, -1] = -1\n",
    "    # print(data)\n",
    "    return data[:, :2], data[:, -1]\n",
    "X, y = create_data()\n",
    "X_train, X_test, y_train, y_test = train_test_split(X, y, test_size=0.25)\n",
    "plt.scatter(X[:50,0],X[:50,1], label='0')\n",
    "plt.scatter(X[50:,0],X[50:,1], label='1')\n",
    "plt.legend()"
   ]
  },
  {
   "cell_type": "code",
   "execution_count": 326,
   "metadata": {},
   "outputs": [
    {
     "name": "stdout",
     "output_type": "stream",
     "text": [
      "(25, 2)\n",
      "(75,)\n"
     ]
    }
   ],
   "source": [
    "print(X_test.shape)\n",
    "print(y_train.shape)"
   ]
  },
  {
   "cell_type": "code",
   "execution_count": 327,
   "metadata": {},
   "outputs": [],
   "source": [
    "#这里写三个核函数，linear,poly和guassian\n",
    "def kernal(X,shape):\n",
    "    e=np.exp(1)\n",
    "    if (shape==\"linear\"):\n",
    "        return np.dot(X,X.T)\n",
    "    elif (shape==\"poly\"):\n",
    "        return (np.dot(X,X.T)+1)**2\n",
    "    elif (shape==\"guassian\"):\n",
    "        sigma=1\n",
    "        m,n = X.shape\n",
    "        H=np.zeros((m,m))\n",
    "        for i in range(m):\n",
    "            for j in range(m):\n",
    "                a= X[i]-X[j]\n",
    "                H[i][j]=np.exp(-0.5 * float(a.dot(a.T)) / (sigma**2))\n",
    "        return H\n",
    "    else :\n",
    "        return 0\n",
    "\n"
   ]
  },
  {
   "cell_type": "code",
   "execution_count": 328,
   "metadata": {},
   "outputs": [],
   "source": [
    "def SVM01 (X,y,C,shape):\n",
    "    #Initializing values and computing H. Note the 1. to force to float type\n",
    "    m,n = X.shape\n",
    "    y = y.reshape(-1,1) * 1.\n",
    "    sum_y = np.dot(y,y.T)\n",
    "    sum_X = kernal(X,shape)\n",
    "    H= sum_X*sum_y\n",
    "    P = cvxopt_matrix(H)\n",
    "    q = cvxopt_matrix(-np.ones((m, 1)))\n",
    "    G = cvxopt_matrix(-np.eye(m))\n",
    "    h = cvxopt_matrix(np.zeros(m))\n",
    "    A = cvxopt_matrix(y.reshape(1, -1))\n",
    "    b = cvxopt_matrix(np.zeros(1))\n",
    "    sol = cvxopt_solvers.qp(P,q,G,h,A,b)\n",
    "    alphas = np.array(sol['x'])\n",
    "    w = ((y*alphas).T @ X).reshape(-1,1)\n",
    "    S = (alphas > 1e-4).flatten()\n",
    "    b = y[S] - np.dot(X[S],w)\n",
    "    return w,b"
   ]
  },
  {
   "cell_type": "code",
   "execution_count": 329,
   "metadata": {},
   "outputs": [
    {
     "name": "stdout",
     "output_type": "stream",
     "text": [
      "     pcost       dcost       gap    pres   dres\n",
      " 0: -1.4645e+01 -3.2218e+01  2e+02  1e+01  2e+00\n",
      " 1: -2.6891e+01 -3.1967e+01  9e+01  5e+00  7e-01\n",
      " 2: -5.0652e+01 -4.7207e+01  7e+01  3e+00  4e-01\n",
      " 3: -3.7053e+01 -4.0379e+01  4e+01  1e+00  1e-01\n",
      " 4: -3.3835e+01 -3.3899e+01  5e-01  1e-02  2e-03\n",
      " 5: -3.3795e+01 -3.3796e+01  5e-03  1e-04  2e-05\n",
      " 6: -3.3795e+01 -3.3795e+01  5e-05  1e-06  2e-07\n",
      " 7: -3.3795e+01 -3.3795e+01  5e-07  1e-08  2e-09\n",
      "Optimal solution found.\n",
      "[[ 6.31578947]\n",
      " [-5.26315789]]\n",
      "[-17.31578947]\n"
     ]
    }
   ],
   "source": [
    "w,b= SVM01 (X_train,y_train,1,\"linear\")\n",
    "print(w)\n",
    "print(b[0])"
   ]
  },
  {
   "cell_type": "code",
   "execution_count": 330,
   "metadata": {},
   "outputs": [],
   "source": [
    "# pred = np.sign(np.dot(X_test,w)-b[0])\n",
    "# print(pred)\n",
    "# for i in range(y_test.shape[0]):\n",
    "#     score=0\n",
    "#     if pred[i]==y_test[i]:\n",
    "#         score +=1\n",
    "# score /=y_test.shape[0]"
   ]
  }
 ],
 "metadata": {
  "interpreter": {
   "hash": "1edc02d45a8b8ed3808a5fe551570e01c758028ee234a9214863c9ba4f4b6b20"
  },
  "kernelspec": {
   "display_name": "Python 3.8.8 64-bit ('base': conda)",
   "language": "python",
   "name": "python3"
  },
  "language_info": {
   "codemirror_mode": {
    "name": "ipython",
    "version": 3
   },
   "file_extension": ".py",
   "mimetype": "text/x-python",
   "name": "python",
   "nbconvert_exporter": "python",
   "pygments_lexer": "ipython3",
   "version": "3.8.8"
  },
  "orig_nbformat": 4
 },
 "nbformat": 4,
 "nbformat_minor": 2
}
