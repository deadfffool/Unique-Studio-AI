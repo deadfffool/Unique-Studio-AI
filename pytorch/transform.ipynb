{
 "cells": [
  {
   "cell_type": "code",
   "execution_count": 4,
   "metadata": {},
   "outputs": [],
   "source": [
    "from torchvision import transforms\n",
    "from PIL import Image\n",
    "import cv2\n",
    "from torch.utils.tensorboard import SummaryWriter\n",
    "writer = SummaryWriter(\"logs\")\n",
    "#通过transforms.totenser去解决1.transform 如和使用 2.tensor这个数据类型与普通的数据类型有什么区别"
   ]
  },
  {
   "cell_type": "code",
   "execution_count": 5,
   "metadata": {},
   "outputs": [],
   "source": [
    "img_path=\"dataset/train/ants_image/0013035.jpg\"\n",
    "img=Image.open(img_path)\n",
    "trans_totensor=transforms.ToTensor()\n",
    "tensor_img=trans_totensor(img)"
   ]
  },
  {
   "cell_type": "code",
   "execution_count": 6,
   "metadata": {},
   "outputs": [],
   "source": [
    "writer.add_image(\"ToTenser\",tensor_img)"
   ]
  },
  {
   "cell_type": "code",
   "execution_count": 9,
   "metadata": {},
   "outputs": [],
   "source": [
    "trans_norm=transforms.Normalize([0.5,0.5,0.5],[0.5,0.5,0.5])\n",
    "norm_img=trans_norm(tensor_img)\n",
    "writer.add_image(\"Normalize\",norm_img)\n",
    "writer.close()\n"
   ]
  }
 ],
 "metadata": {
  "interpreter": {
   "hash": "5e5ab85235874523586d6a2c02397ac9507c1796a399de334d9b2025e60a3b37"
  },
  "kernelspec": {
   "display_name": "Python 3.8.8 ('base')",
   "language": "python",
   "name": "python3"
  },
  "language_info": {
   "codemirror_mode": {
    "name": "ipython",
    "version": 3
   },
   "file_extension": ".py",
   "mimetype": "text/x-python",
   "name": "python",
   "nbconvert_exporter": "python",
   "pygments_lexer": "ipython3",
   "version": "3.8.8"
  },
  "orig_nbformat": 4
 },
 "nbformat": 4,
 "nbformat_minor": 2
}
