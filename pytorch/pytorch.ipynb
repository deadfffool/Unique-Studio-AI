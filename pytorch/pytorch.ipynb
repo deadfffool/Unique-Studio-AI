{
 "cells": [
  {
   "cell_type": "code",
   "execution_count": 6,
   "metadata": {},
   "outputs": [],
   "source": [
    "from torch.utils.data import Dataset\n",
    "from PIL import Image\n",
    "import os"
   ]
  },
  {
   "cell_type": "code",
   "execution_count": 7,
   "metadata": {},
   "outputs": [],
   "source": [
    "class Mydata(Dataset):\n",
    "    def __init__(self,root_dir,label_dir):\n",
    "        self.root_dir=root_dir\n",
    "        self.label_dir=label_dir\n",
    "        self.path= os.path.join(self.root_dir,self.label_dir)\n",
    "        self.img_path=os.listdir(self.path)\n",
    "    \n",
    "    def __getitem__(self,idx):\n",
    "        img_name=self.img_path[idx]\n",
    "        img_item_path=os.path.join(self.path,img_name)\n",
    "        img = Image.open(img_item_path)\n",
    "        label = self.label_dir\n",
    "        return img,label\n",
    "    \n",
    "    def __len__(self):\n",
    "        return len(self.img_path)\n",
    "\n",
    "\n",
    "root_dir=\"data/train\"\n",
    "ants_label_dir=\"ants\"\n",
    "bees_label_dir=\"bees\"\n",
    "ants_dataset = Mydata(root_dir,ants_label_dir)\n",
    "bees_dataset = Mydata(root_dir,bees_label_dir)"
   ]
  },
  {
   "cell_type": "code",
   "execution_count": 8,
   "metadata": {},
   "outputs": [],
   "source": [
    "ants,label_0=ants_dataset[0]\n",
    "ants.show()\n",
    "bees,label_1=bees_dataset[0]\n",
    "bees.show()"
   ]
  },
  {
   "cell_type": "code",
   "execution_count": null,
   "metadata": {},
   "outputs": [],
   "source": [
    "train_dataset=ants_dataset+bees_dataset"
   ]
  }
 ],
 "metadata": {
  "interpreter": {
   "hash": "5e5ab85235874523586d6a2c02397ac9507c1796a399de334d9b2025e60a3b37"
  },
  "kernelspec": {
   "display_name": "Python 3.8.8 ('base')",
   "language": "python",
   "name": "python3"
  },
  "language_info": {
   "codemirror_mode": {
    "name": "ipython",
    "version": 3
   },
   "file_extension": ".py",
   "mimetype": "text/x-python",
   "name": "python",
   "nbconvert_exporter": "python",
   "pygments_lexer": "ipython3",
   "version": "3.8.8"
  },
  "orig_nbformat": 4
 },
 "nbformat": 4,
 "nbformat_minor": 2
}
