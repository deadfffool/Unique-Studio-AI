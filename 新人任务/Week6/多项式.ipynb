{
 "cells": [
  {
   "cell_type": "code",
   "execution_count": 141,
   "metadata": {},
   "outputs": [],
   "source": [
    "\n",
    "import numpy as np \n",
    "import math\n",
    "# 使用词集法进行贝叶斯分类\n",
    "# 构造数据集,分类是侮辱性 or 非侮辱性\n",
    "def loadDataset () :\n",
    "    postingList=[['my', 'dog', 'has', 'flea', 'problems', 'help', 'please'],\n",
    "                 ['maybe', 'not', 'take', 'him', 'to', 'dog', 'park', 'stupid'],\n",
    "                 ['my', 'dalmation', 'is', 'so', 'cute', 'I', 'love', 'him'],\n",
    "                 ['stop', 'posting', 'stupid', 'worthless', 'garbage'],\n",
    "                 ['mr', 'licks', 'ate', 'my', 'steak', 'how', 'to', 'stop', 'him'],\n",
    "                 ['quit', 'buying', 'worthless', 'dog', 'food', 'stupid']]\n",
    "    classVec = [0,1,0,1,0,1]    #1 is abusive, 0 not\n",
    "    return postingList, classVec\n",
    "\n",
    "\n",
    "# 这里利用set来提取元素\n",
    "def createlist (dataset) :\n",
    "    vovabset = set ([])\n",
    "    for vec in dataset :\n",
    "        vovabset = vovabset | set (vec)\n",
    "    return list (vovabset)"
   ]
  },
  {
   "cell_type": "code",
   "execution_count": 142,
   "metadata": {},
   "outputs": [
    {
     "data": {
      "text/plain": [
       "1"
      ]
     },
     "execution_count": 142,
     "metadata": {},
     "output_type": "execute_result"
    }
   ],
   "source": [
    "data,label = loadDataset ()\n",
    "label[1]"
   ]
  },
  {
   "cell_type": "code",
   "execution_count": 143,
   "metadata": {},
   "outputs": [],
   "source": [
    "def createdict(data):\n",
    "    list=createlist(data)\n",
    "    dict = {}\n",
    "    for i in list:\n",
    "        dict[i]=[0,0]\n",
    "    return dict\n"
   ]
  },
  {
   "cell_type": "code",
   "execution_count": 144,
   "metadata": {},
   "outputs": [
    {
     "data": {
      "text/plain": [
       "32"
      ]
     },
     "execution_count": 144,
     "metadata": {},
     "output_type": "execute_result"
    }
   ],
   "source": [
    "dict =createdict(data)\n",
    "len(dict)"
   ]
  },
  {
   "cell_type": "code",
   "execution_count": 145,
   "metadata": {},
   "outputs": [],
   "source": [
    "def writedict(data,label,dict):\n",
    "    for i in range(len(label)):\n",
    "        for j in data[i]:\n",
    "            dict[j][label[i]]+=1\n",
    "        if label[i] in dict.keys():\n",
    "            dict[label[i]]+=len(data[i])\n",
    "        else:\n",
    "            dict[label[i]]=0\n",
    "    return dict"
   ]
  },
  {
   "cell_type": "code",
   "execution_count": 146,
   "metadata": {},
   "outputs": [],
   "source": [
    "dict = writedict(data,label,dict)"
   ]
  },
  {
   "cell_type": "code",
   "execution_count": 147,
   "metadata": {},
   "outputs": [],
   "source": [
    "def calc(dict):\n",
    "    for i in dict.keys():\n",
    "        if i !=0 and i!=1:\n",
    "            dict[i][0]=(dict[i][0]+1)/(dict[0]+len(dict))\n",
    "            dict[i][1]=(dict[i][1]+1)/(dict[1]+len(dict))\n",
    "    dict.pop(1)\n",
    "    dict.pop(0)\n",
    "    return dict"
   ]
  },
  {
   "cell_type": "code",
   "execution_count": 148,
   "metadata": {},
   "outputs": [],
   "source": [
    "dict = calc(dict)"
   ]
  },
  {
   "cell_type": "code",
   "execution_count": 149,
   "metadata": {},
   "outputs": [],
   "source": [
    "def predict(input,dict):\n",
    "    p0=1\n",
    "    p1=1 \n",
    "    for i in input:\n",
    "        p0*=dict[i][0]\n",
    "        p1*=dict[i][1]\n",
    "    if p0>p1 :\n",
    "        return 0\n",
    "    else :\n",
    "        return 1"
   ]
  },
  {
   "cell_type": "code",
   "execution_count": 150,
   "metadata": {},
   "outputs": [
    {
     "name": "stdout",
     "output_type": "stream",
     "text": [
      "1\n"
     ]
    }
   ],
   "source": [
    "print(predict([\"dog\",\"stupid\"],dict))"
   ]
  }
 ],
 "metadata": {
  "interpreter": {
   "hash": "1edc02d45a8b8ed3808a5fe551570e01c758028ee234a9214863c9ba4f4b6b20"
  },
  "kernelspec": {
   "display_name": "Python 3.8.8 64-bit ('base': conda)",
   "language": "python",
   "name": "python3"
  },
  "language_info": {
   "codemirror_mode": {
    "name": "ipython",
    "version": 3
   },
   "file_extension": ".py",
   "mimetype": "text/x-python",
   "name": "python",
   "nbconvert_exporter": "python",
   "pygments_lexer": "ipython3",
   "version": "3.8.8"
  },
  "orig_nbformat": 4
 },
 "nbformat": 4,
 "nbformat_minor": 2
}
