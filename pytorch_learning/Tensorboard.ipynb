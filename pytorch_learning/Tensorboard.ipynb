{
 "cells": [
  {
   "cell_type": "code",
   "execution_count": 5,
   "metadata": {},
   "outputs": [],
   "source": [
    "from torch.utils.tensorboard import SummaryWriter \n",
    "import numpy as np\n",
    "from PIL import Image"
   ]
  },
  {
   "cell_type": "code",
   "execution_count": 2,
   "metadata": {},
   "outputs": [],
   "source": [
    "writer = SummaryWriter(\"logs\")\n",
    "for i in range(100):\n",
    "    writer.add_scalar(\"y=x\",i,i)"
   ]
  },
  {
   "cell_type": "code",
   "execution_count": 10,
   "metadata": {},
   "outputs": [],
   "source": [
    "path=\"data/val/ants/8124241_36b290d372.jpg\"\n",
    "img = Image.open(path)\n",
    "img = np.array(img)\n",
    "writer.add_image(\"test\",img,1,dataformats='HWC')"
   ]
  }
 ],
 "metadata": {
  "interpreter": {
   "hash": "f20f34c6e3d35d84315ec1f4dbaaeec0010a03db008e9fec7f43ef0cad0a743f"
  },
  "kernelspec": {
   "display_name": "Python 3.8.12 ('pytorch')",
   "language": "python",
   "name": "python3"
  },
  "language_info": {
   "codemirror_mode": {
    "name": "ipython",
    "version": 3
   },
   "file_extension": ".py",
   "mimetype": "text/x-python",
   "name": "python",
   "nbconvert_exporter": "python",
   "pygments_lexer": "ipython3",
   "version": "3.8.12"
  },
  "orig_nbformat": 4
 },
 "nbformat": 4,
 "nbformat_minor": 2
}
