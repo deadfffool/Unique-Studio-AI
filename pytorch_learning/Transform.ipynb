{
 "cells": [
  {
   "cell_type": "code",
   "execution_count": 67,
   "metadata": {},
   "outputs": [],
   "source": [
    "from torchvision import transforms\n",
    "from PIL import Image\n",
    "from torch.utils.tensorboard import SummaryWriter\n",
    "import cv2"
   ]
  },
  {
   "cell_type": "code",
   "execution_count": 68,
   "metadata": {},
   "outputs": [],
   "source": [
    "path=\"dataset/train/ants_image/0013035.jpg\"\n",
    "img = Image.open(path)\n",
    "trans_totensor = transforms.ToTensor()\n",
    "writer = SummaryWriter(\"logs\")"
   ]
  },
  {
   "cell_type": "code",
   "execution_count": 69,
   "metadata": {},
   "outputs": [],
   "source": [
    "img_orign = trans_totensor(img)\n",
    "writer.add_image(\"tensor image\",img_orign)"
   ]
  },
  {
   "cell_type": "code",
   "execution_count": 70,
   "metadata": {},
   "outputs": [],
   "source": [
    "trans_norm = transforms.Normalize([0.5,0.5,0.5],[0.5,0.5,0.5])\n",
    "img_norm=trans_totensor(img)\n",
    "img_norm=trans_norm(img_norm)\n",
    "writer.add_image(\"Normalized image\",img_norm)"
   ]
  },
  {
   "cell_type": "code",
   "execution_count": 71,
   "metadata": {},
   "outputs": [],
   "source": [
    "trans_size = transforms.Resize([512,512])\n",
    "img_resize=trans_size(img)\n",
    "img_resize=trans_totensor(img_resize)\n",
    "writer.add_image(\"Resized image\",img_resize)"
   ]
  },
  {
   "cell_type": "code",
   "execution_count": 72,
   "metadata": {},
   "outputs": [],
   "source": [
    "trans_size = transforms.Resize([512,512])\n",
    "trans = transforms.Compose([trans_size,trans_totensor])\n",
    "img_tran=trans(img)\n",
    "writer.add_image(\"Resized\",img_tran)"
   ]
  },
  {
   "cell_type": "code",
   "execution_count": 75,
   "metadata": {},
   "outputs": [],
   "source": [
    "trans_random = transforms.RandomCrop([500,600])\n",
    "trans_compose_2 = transforms.Compose([trans_random,trans_totensor])\n",
    "for i in range(10):\n",
    "    img_crop = trans_compose_2(img)\n",
    "    writer.add_image(\"RandomCrop\",img_crop,i)"
   ]
  },
  {
   "cell_type": "code",
   "execution_count": null,
   "metadata": {},
   "outputs": [],
   "source": []
  }
 ],
 "metadata": {
  "interpreter": {
   "hash": "f20f34c6e3d35d84315ec1f4dbaaeec0010a03db008e9fec7f43ef0cad0a743f"
  },
  "kernelspec": {
   "display_name": "Python 3.8.12 ('pytorch')",
   "language": "python",
   "name": "python3"
  },
  "language_info": {
   "name": "python",
   "version": "3.8.12"
  },
  "orig_nbformat": 4
 },
 "nbformat": 4,
 "nbformat_minor": 2
}
