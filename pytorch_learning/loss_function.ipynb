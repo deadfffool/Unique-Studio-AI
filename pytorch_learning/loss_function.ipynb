{
 "cells": [
  {
   "cell_type": "code",
   "execution_count": 26,
   "metadata": {},
   "outputs": [
    {
     "name": "stdout",
     "output_type": "stream",
     "text": [
      "Files already downloaded and verified\n"
     ]
    }
   ],
   "source": [
    "import torch\n",
    "from torch.nn import L1Loss\n",
    "from torch import nn\n",
    "from torch.nn import Conv2d,MaxPool2d,Flatten,Linear\n",
    "import torchvision\n",
    "from torch.utils.data import DataLoader\n",
    "\n",
    "dataset = torchvision.datasets.CIFAR10(\"./CIFAR10\",download=True,train=False,transform = torchvision.transforms.ToTensor())\n",
    "dataloader = DataLoader(dataset,batch_size=64)"
   ]
  },
  {
   "cell_type": "code",
   "execution_count": 27,
   "metadata": {},
   "outputs": [
    {
     "data": {
      "text/plain": [
       "tensor(0.6667)"
      ]
     },
     "execution_count": 27,
     "metadata": {},
     "output_type": "execute_result"
    }
   ],
   "source": [
    "input =torch.tensor([1,2,3],dtype=torch.float32)\n",
    "target = torch.tensor([1,2,5],dtype=torch.float32)\n",
    "\n",
    "input=torch.reshape(input,(1,1,1,3))\n",
    "target=torch.reshape(target,(1,1,1,3))\n",
    "\n",
    "loss = L1Loss()\n",
    "result = loss(input,target)\n",
    "result\n"
   ]
  },
  {
   "cell_type": "code",
   "execution_count": 28,
   "metadata": {},
   "outputs": [
    {
     "name": "stdout",
     "output_type": "stream",
     "text": [
      "tensor(1.1019)\n"
     ]
    }
   ],
   "source": [
    "x = torch.tensor([0.1,0.2,0.3])\n",
    "y=torch.tensor([1])\n",
    "x=torch.reshape(x,(1,3))\n",
    "loss_cross=nn.CrossEntropyLoss()\n",
    "result_cross = loss_cross(x,y)\n",
    "print(result_cross)\n"
   ]
  },
  {
   "cell_type": "code",
   "execution_count": 29,
   "metadata": {},
   "outputs": [],
   "source": [
    "class Miles(nn.Module):\n",
    "    def __init__(self):\n",
    "        super().__init__()\n",
    "        self.conv1= Conv2d(3,32,5,padding=2)\n",
    "        self.maxpool1=MaxPool2d(2)\n",
    "        self.conv2=Conv2d(32,32,5,padding=2)\n",
    "        self.maxpool2=MaxPool2d(2)\n",
    "        self.conv3=Conv2d(32,64,5,padding=2)\n",
    "        self.maxpool3=MaxPool2d(2)\n",
    "        self.flatten=Flatten()\n",
    "        self.linear1=Linear(1024,64)\n",
    "        self.linear2=Linear(64,10)\n",
    "        self.model=nn.Sequential(\n",
    "            Conv2d(3,32,5,padding=2),\n",
    "            MaxPool2d(2),\n",
    "            Conv2d(32,32,5,padding=2),\n",
    "            MaxPool2d(2),\n",
    "            Conv2d(32,64,5,padding=2),\n",
    "            MaxPool2d(2),\n",
    "            Flatten(),\n",
    "            Linear(1024,64),\n",
    "            Linear(64,10))\n",
    "    def forward(self,x):\n",
    "        # x=self.conv1(x)\n",
    "        # x=self.maxpool1(x)\n",
    "        # x=self.conv2(x)\n",
    "        # x=self.maxpool2(x)\n",
    "        # x=self.conv3(x)\n",
    "        # x=self.maxpool3(x)\n",
    "        # x=self.flatten(x)\n",
    "        # x=self.linear1(x)\n",
    "        # x=self.linear2(x)\n",
    "        x=self.model(x)\n",
    "        return x\n",
    "\n",
    "miles = Miles()\n",
    "loss = nn.CrossEntropyLoss()\n",
    "optim = torch.optim.SGD(miles.parameters(),lr=0.01,)"
   ]
  },
  {
   "cell_type": "code",
   "execution_count": 30,
   "metadata": {},
   "outputs": [
    {
     "name": "stdout",
     "output_type": "stream",
     "text": [
      "tensor(360.6562, grad_fn=<AddBackward0>)\n",
      "tensor(357.6936, grad_fn=<AddBackward0>)\n",
      "tensor(349.1426, grad_fn=<AddBackward0>)\n",
      "tensor(327.6446, grad_fn=<AddBackward0>)\n",
      "tensor(316.0787, grad_fn=<AddBackward0>)\n",
      "tensor(309.0988, grad_fn=<AddBackward0>)\n",
      "tensor(300.4567, grad_fn=<AddBackward0>)\n",
      "tensor(290.7038, grad_fn=<AddBackward0>)\n",
      "tensor(282.9291, grad_fn=<AddBackward0>)\n",
      "tensor(275.4078, grad_fn=<AddBackward0>)\n",
      "tensor(268.6634, grad_fn=<AddBackward0>)\n",
      "tensor(262.7037, grad_fn=<AddBackward0>)\n",
      "tensor(257.3626, grad_fn=<AddBackward0>)\n",
      "tensor(252.5702, grad_fn=<AddBackward0>)\n",
      "tensor(248.2216, grad_fn=<AddBackward0>)\n",
      "tensor(244.2173, grad_fn=<AddBackward0>)\n",
      "tensor(240.4681, grad_fn=<AddBackward0>)\n",
      "tensor(236.8994, grad_fn=<AddBackward0>)\n",
      "tensor(233.4920, grad_fn=<AddBackward0>)\n",
      "tensor(230.2217, grad_fn=<AddBackward0>)\n"
     ]
    }
   ],
   "source": [
    "for epoch in range(20):\n",
    "    running_loss =0.0\n",
    "    for data in dataloader:\n",
    "        img,targets = data\n",
    "        outputs=miles(img)\n",
    "        result_loss = loss(outputs,targets)\n",
    "        optim.zero_grad()\n",
    "        result_loss.backward()\n",
    "        optim.step()\n",
    "        running_loss+=result_loss\n",
    "    print(running_loss)"
   ]
  }
 ],
 "metadata": {
  "interpreter": {
   "hash": "f20f34c6e3d35d84315ec1f4dbaaeec0010a03db008e9fec7f43ef0cad0a743f"
  },
  "kernelspec": {
   "display_name": "Python 3.8.12 ('pytorch')",
   "language": "python",
   "name": "python3"
  },
  "language_info": {
   "codemirror_mode": {
    "name": "ipython",
    "version": 3
   },
   "file_extension": ".py",
   "mimetype": "text/x-python",
   "name": "python",
   "nbconvert_exporter": "python",
   "pygments_lexer": "ipython3",
   "version": "3.8.12"
  },
  "orig_nbformat": 4
 },
 "nbformat": 4,
 "nbformat_minor": 2
}
