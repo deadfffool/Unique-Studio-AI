{
 "cells": [
  {
   "cell_type": "code",
   "execution_count": 14,
   "metadata": {},
   "outputs": [
    {
     "name": "stdout",
     "output_type": "stream",
     "text": [
      "Files already downloaded and verified\n"
     ]
    }
   ],
   "source": [
    "import torch\n",
    "from torch import nn\n",
    "from torch.nn import MaxPool2d\n",
    "import torchvision\n",
    "from torch.utils.data import DataLoader\n",
    "from torch.utils.tensorboard import SummaryWriter\n",
    "dataset = torchvision.datasets.CIFAR10(\"./CIFAR10\",train=False,download=True,transform= torchvision.transforms.ToTensor())\n",
    "# input = torch.tensor([[1,2,0,3,1],\n",
    "#                       [0,1,2,3,1],\n",
    "#                       [1,2,1,0,0],\n",
    "#                       [5,2,3,1,1],\n",
    "#                       [2,1,0,1,1]],dtype=torch.float32)\n",
    "# input = torch.reshape(input,(-1,1,5,5))"
   ]
  },
  {
   "cell_type": "code",
   "execution_count": 16,
   "metadata": {},
   "outputs": [],
   "source": [
    "writer= SummaryWriter(\"P10\") \n",
    "dataloader= DataLoader(dataset,batch_size=64)\n",
    "step=0\n",
    "class Miles(nn.Module):\n",
    "    def __init__(self):\n",
    "        super().__init__()\n",
    "        self.maxpool = MaxPool2d(kernel_size=3,ceil_mode=False)\n",
    "\n",
    "    def forward(self,x):\n",
    "        return self.maxpool(x)\n",
    "\n",
    "miles = Miles()\n",
    "\n",
    "for data in dataloader:\n",
    "    img,target = data\n",
    "    writer.add_images(\"input\",img,step)\n",
    "    output=miles(img)\n",
    "    writer.add_images(\"Maxpooloutput\",output,step)\n",
    "    step+=1\n",
    "# output = miles(input)\n",
    "# output"
   ]
  }
 ],
 "metadata": {
  "interpreter": {
   "hash": "f20f34c6e3d35d84315ec1f4dbaaeec0010a03db008e9fec7f43ef0cad0a743f"
  },
  "kernelspec": {
   "display_name": "Python 3.8.12 ('pytorch')",
   "language": "python",
   "name": "python3"
  },
  "language_info": {
   "codemirror_mode": {
    "name": "ipython",
    "version": 3
   },
   "file_extension": ".py",
   "mimetype": "text/x-python",
   "name": "python",
   "nbconvert_exporter": "python",
   "pygments_lexer": "ipython3",
   "version": "3.8.12"
  },
  "orig_nbformat": 4
 },
 "nbformat": 4,
 "nbformat_minor": 2
}
